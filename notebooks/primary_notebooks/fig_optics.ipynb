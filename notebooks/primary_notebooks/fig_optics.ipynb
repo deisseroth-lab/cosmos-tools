{
 "cells": [
  {
   "cell_type": "code",
   "execution_count": 6,
   "metadata": {},
   "outputs": [
    {
     "data": {
      "text/plain": [
       "'\\nThis notebook generates figures that summarize the resolution of the optical system.\\n'"
      ]
     },
     "execution_count": 6,
     "metadata": {},
     "output_type": "execute_result"
    }
   ],
   "source": [
    "\"\"\"\n",
    "This notebook generates figures that summarize the resolution of the optical system.\n",
    "\"\"\""
   ]
  },
  {
   "cell_type": "code",
   "execution_count": 7,
   "metadata": {},
   "outputs": [
    {
     "name": "stdout",
     "output_type": "stream",
     "text": [
      "The autoreload extension is already loaded. To reload it, use:\n",
      "  %reload_ext autoreload\n",
      "The line_profiler extension is already loaded. To reload it, use:\n",
      "  %reload_ext line_profiler\n"
     ]
    }
   ],
   "source": [
    "%load_ext autoreload\n",
    "%autoreload 2\n",
    "%matplotlib inline\n",
    "%load_ext line_profiler\n",
    "# %pdb\n",
    "\n",
    "import os\n",
    "import sys\n",
    "os.environ['MKL_THREADING_LAYER'] = 'GNU'\n",
    "\n",
    "from matplotlib import pyplot as plt\n",
    "import numpy as np\n",
    "import scipy.stats\n",
    "import scipy\n",
    "\n",
    "# from sklearn.utils.class_weight import compute_class_weight\n",
    "# from sklearn.metrics import confusion_matrix\n",
    "\n",
    "from sklearn.decomposition import PCA\n",
    "from scipy.ndimage.filters import gaussian_filter1d\n",
    "\n",
    "import pickle \n",
    "# import keras\n",
    "import time\n",
    "import copy\n",
    "\n",
    "import cosmos.traces.trace_analysis_utils as utils\n",
    "from cosmos.behavior.bpod_dataset import BpodDataset\n",
    "from cosmos.traces.cell_plotter import CellPlotter\n",
    "from cosmos.traces.cosmos_traces import CosmosTraces\n",
    "import cosmos.params.trace_analyze_params as params\n",
    "\n",
    "import cosmos.imaging.img_io as io\n",
    "\n",
    "import matplotlib\n",
    "\n",
    "matplotlib.rcParams.update({'xtick.major.pad': '2'})\n",
    "matplotlib.rcParams.update({'ytick.major.pad': '2'})\n",
    "matplotlib.rcParams.update({'font.size': 8})\n",
    "matplotlib.rcParams['pdf.fonttype'] = 42 "
   ]
  },
  {
   "cell_type": "code",
   "execution_count": 8,
   "metadata": {},
   "outputs": [],
   "source": [
    "# Select workstation for loading.\n",
    "workstation = 'cosmosdata' #'analysis2'\n",
    "\n",
    "if workstation == 'analysis2':\n",
    "    data_dir = '/home/izkula/Dropbox/cosmos_data/'\n",
    "    general_plots_save_dir = '/home/izkula/Dropbox/cosmos/trace_analysis/'\n",
    "    fig_save_dir = '/home/izkula/Dropbox/cosmos/fig_plots/figS3/'\n",
    "    bpod_dir = '/home/izkula/Dropbox/cosmos_data/behavior/'\n",
    "    img_dir = '/home/izkula/Dropbox/cosmos/PSF_analysis/'\n",
    "elif workstation == 'cosmosdata':\n",
    "    data_dir = '/home/user/Dropbox/cosmos_data/'\n",
    "    general_plots_save_dir = '/home/user/Dropbox/cosmos/trace_analysis/'\n",
    "    fig_save_dir = '/home/user/Dropbox/cosmos/fig_plots/fig1/resolution/'\n",
    "    bpod_dir = '/home/user/Dropbox/cosmos_data/behavior/'\n",
    "    img_dir = '/home/user/Dropbox/cosmos/PSF_analysis/'\n",
    "\n",
    "if not os.path.isdir(fig_save_dir):\n",
    "    os.makedirs(fig_save_dir)"
   ]
  },
  {
   "cell_type": "code",
   "execution_count": 9,
   "metadata": {},
   "outputs": [
    {
     "name": "stdout",
     "output_type": "stream",
     "text": [
      "Loading multi-page sequence of ome.tif.\n",
      "Loading substack # 0\n",
      "(2, 714, 1603)\n",
      "Total time for load:  0.005372524261474609\n"
     ]
    }
   ],
   "source": [
    "img_path = img_dir+'20180612_res_chart/cosmos_res_chart_attempt_2/'\n",
    "\n",
    "imgs = io.load_raw_data(img_path)"
   ]
  },
  {
   "cell_type": "code",
   "execution_count": 10,
   "metadata": {},
   "outputs": [
    {
     "name": "stderr",
     "output_type": "stream",
     "text": [
      "/home/user/anaconda3/envs/cosmostools3/lib/python3.6/site-packages/ipykernel_launcher.py:4: DeprecationWarning: `imrotate` is deprecated!\n",
      "`imrotate` is deprecated in SciPy 1.0.0, and will be removed in 1.2.0.\n",
      "Use ``skimage.transform.rotate`` instead.\n",
      "  after removing the cwd from sys.path.\n"
     ]
    },
    {
     "data": {
      "image/png": "[encoded data removed]",
      "text/plain": [
       "<matplotlib.figure.Figure at 0x7fc8ce1e6518>"
      ]
     },
     "metadata": {},
     "output_type": "display_data"
    }
   ],
   "source": [
    "### focus in on group 4 element 2 which has a separation of 27.84 um. \n",
    "img = imgs[0]\n",
    "img = np.fliplr(img)\n",
    "img = scipy.misc.imrotate(img, 1.5)\n",
    "cimg = img[260:350, 1200:1280]\n",
    "\n",
    "dx = 13.5\n",
    "xx = 13\n",
    "y0 = 15\n",
    "y1 = 31\n",
    "\n",
    "fig = plt.figure(figsize=(15, 10))\n",
    "gs = []\n",
    "nr = 3\n",
    "nc = 3\n",
    "gs.append(plt.subplot2grid((nr, nc), (1, 0), colspan=1, rowspan=1))\n",
    "gs.append(plt.subplot2grid((nr, nc), (0, 1), colspan=1, rowspan=3))\n",
    "\n",
    "### Plot the line profile\n",
    "plt.axes(gs[0])\n",
    "line = cimg[np.arange(y0, y1), xx]\n",
    "plt.plot(dx*np.arange(line.shape[0]), line/np.max(line), color='r')\n",
    "plt.xticks([0, 100, 200])\n",
    "plt.xlabel('Distance [um]')\n",
    "plt.ylabel('Normalized \\nintensity')\n",
    "\n",
    "### Plot the resolution chart\n",
    "plt.axes(gs[1])\n",
    "plt.imshow(cimg, cmap='gray', extent=[0, cimg.shape[1], cimg.shape[0], 0], aspect='equal')\n",
    "plt.xticks([0, cimg.shape[1]], (np.array([0, cimg.shape[1]])*dx).astype('int'))\n",
    "plt.yticks([0, cimg.shape[0]], (np.array([0, cimg.shape[0]])*dx).astype('int'))\n",
    "plt.yticks([])\n",
    "# plt.axis('off')\n",
    "plt.plot([xx, xx], [y0, y1], color='r', linestyle='-', linewidth=1)\n",
    "\n",
    "plt.gcf().set_size_inches(w=4, h=2) # Control size of figure in inches\n",
    "\n",
    "plt.savefig(fig_save_dir + 'res_chart.pdf',\n",
    "            transparent=True, rasterized=True, dpi=600) "
   ]
  },
  {
   "cell_type": "code",
   "execution_count": null,
   "metadata": {},
   "outputs": [],
   "source": []
  }
 ],
 "metadata": {
  "kernelspec": {
   "display_name": "Python 3",
   "language": "python",
   "name": "python3"
  },
  "language_info": {
   "codemirror_mode": {
    "name": "ipython",
    "version": 3
   },
   "file_extension": ".py",
   "mimetype": "text/x-python",
   "name": "python",
   "nbconvert_exporter": "python",
   "pygments_lexer": "ipython3",
   "version": "3.6.10"
  }
 },
 "nbformat": 4,
 "nbformat_minor": 2
}
